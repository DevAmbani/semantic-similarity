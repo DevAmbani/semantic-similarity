{
  "nbformat": 4,
  "nbformat_minor": 0,
  "metadata": {
    "colab": {
      "provenance": []
    },
    "kernelspec": {
      "name": "python3",
      "display_name": "Python 3"
    },
    "language_info": {
      "name": "python"
    }
  },
  "cells": [
    {
      "cell_type": "code",
      "execution_count": 1,
      "metadata": {
        "id": "yDsylrRL_8c1",
        "colab": {
          "base_uri": "https://localhost:8080/"
        },
        "outputId": "3c314003-e8c2-42ea-f045-bd80dbb0a098"
      },
      "outputs": [
        {
          "output_type": "stream",
          "name": "stdout",
          "text": [
            "Collecting groq\n",
            "  Downloading groq-0.13.0-py3-none-any.whl.metadata (13 kB)\n",
            "Requirement already satisfied: anyio<5,>=3.5.0 in /usr/local/lib/python3.10/dist-packages (from groq) (3.7.1)\n",
            "Requirement already satisfied: distro<2,>=1.7.0 in /usr/local/lib/python3.10/dist-packages (from groq) (1.9.0)\n",
            "Requirement already satisfied: httpx<1,>=0.23.0 in /usr/local/lib/python3.10/dist-packages (from groq) (0.27.2)\n",
            "Requirement already satisfied: pydantic<3,>=1.9.0 in /usr/local/lib/python3.10/dist-packages (from groq) (2.9.2)\n",
            "Requirement already satisfied: sniffio in /usr/local/lib/python3.10/dist-packages (from groq) (1.3.1)\n",
            "Requirement already satisfied: typing-extensions<5,>=4.7 in /usr/local/lib/python3.10/dist-packages (from groq) (4.12.2)\n",
            "Requirement already satisfied: idna>=2.8 in /usr/local/lib/python3.10/dist-packages (from anyio<5,>=3.5.0->groq) (3.10)\n",
            "Requirement already satisfied: exceptiongroup in /usr/local/lib/python3.10/dist-packages (from anyio<5,>=3.5.0->groq) (1.2.2)\n",
            "Requirement already satisfied: certifi in /usr/local/lib/python3.10/dist-packages (from httpx<1,>=0.23.0->groq) (2024.8.30)\n",
            "Requirement already satisfied: httpcore==1.* in /usr/local/lib/python3.10/dist-packages (from httpx<1,>=0.23.0->groq) (1.0.7)\n",
            "Requirement already satisfied: h11<0.15,>=0.13 in /usr/local/lib/python3.10/dist-packages (from httpcore==1.*->httpx<1,>=0.23.0->groq) (0.14.0)\n",
            "Requirement already satisfied: annotated-types>=0.6.0 in /usr/local/lib/python3.10/dist-packages (from pydantic<3,>=1.9.0->groq) (0.7.0)\n",
            "Requirement already satisfied: pydantic-core==2.23.4 in /usr/local/lib/python3.10/dist-packages (from pydantic<3,>=1.9.0->groq) (2.23.4)\n",
            "Downloading groq-0.13.0-py3-none-any.whl (108 kB)\n",
            "\u001b[?25l   \u001b[90m━━━━━━━━━━━━━━━━━━━━━━━━━━━━━━━━━━━━━━━━\u001b[0m \u001b[32m0.0/108.8 kB\u001b[0m \u001b[31m?\u001b[0m eta \u001b[36m-:--:--\u001b[0m\r\u001b[2K   \u001b[90m━━━━━━━━━━━━━━━━━━━━━━━━━━━━━━━━━━━━━━━━\u001b[0m \u001b[32m108.8/108.8 kB\u001b[0m \u001b[31m3.0 MB/s\u001b[0m eta \u001b[36m0:00:00\u001b[0m\n",
            "\u001b[?25hInstalling collected packages: groq\n",
            "Successfully installed groq-0.13.0\n"
          ]
        }
      ],
      "source": [
        "!pip install groq"
      ]
    },
    {
      "cell_type": "code",
      "source": [
        "from google.colab import drive\n",
        "drive.mount('/content/drive')"
      ],
      "metadata": {
        "colab": {
          "base_uri": "https://localhost:8080/"
        },
        "id": "AQOnTsPcd6WD",
        "outputId": "f7663480-1f9b-44d3-d01d-e30d1c1e8e81"
      },
      "execution_count": 2,
      "outputs": [
        {
          "output_type": "stream",
          "name": "stdout",
          "text": [
            "Mounted at /content/drive\n"
          ]
        }
      ]
    },
    {
      "cell_type": "code",
      "source": [
        "import os\n",
        "import base64\n",
        "import json\n",
        "from groq import Groq\n",
        "import time\n",
        "\n",
        "def encode_image(image_path):\n",
        "    with open(image_path, \"rb\") as image_file:\n",
        "        return base64.b64encode(image_file.read()).decode('utf-8')\n",
        "\n",
        "def process_image(image_path, client):\n",
        "    base64_image = encode_image(image_path)\n",
        "\n",
        "    chat_completion = client.chat.completions.create(\n",
        "        messages=[\n",
        "            {\n",
        "                \"role\": \"user\",\n",
        "                \"content\": [\n",
        "                    {\n",
        "                        \"type\": \"text\",\n",
        "                        \"text\": \"\"\"\n",
        "Analyze the image and extract information into the following JSON structure:\n",
        "{\n",
        "    \"purpose\": \"Provide guidance on product specification attributes\",\n",
        "    \"critical_attributes\": [\n",
        "        {\n",
        "            \"Attributes\": \"THREAD SIZE\",\n",
        "            \"Tolerances\": \"IDENTICAL\",\n",
        "            \"Tolerance Variability\": null,\n",
        "            \"Item Notes\": null\n",
        "        }\n",
        "    ],\n",
        "    \"notes\": {\n",
        "        \"identical\": \"Strict matching required\",\n",
        "        \"upgradable\": \"Potential upgrade conditions\",\n",
        "        \"flexible\": \"Modifications allowed\",\n",
        "        \"nonCritical\": \"Optional attributes\"\n",
        "    }\n",
        "}\n",
        "\n",
        "Ensure:\n",
        "- Use exact values from the image\n",
        "- Maintain clean, valid JSON format\n",
        "- Include all visible attributes\n",
        "- Use null for empty/undefined fields\n",
        "- Ensure json variables according to the name in image. like some images have attributes and some have critical attributes.\n",
        "\"\"\"\n",
        "                    },\n",
        "                    {\n",
        "                        \"type\": \"image_url\",\n",
        "                        \"image_url\": {\n",
        "                            \"url\": f\"data:image/jpeg;base64,{base64_image}\"\n",
        "                        },\n",
        "                    },\n",
        "                ],\n",
        "            }\n",
        "        ],\n",
        "        model=\"llama-3.2-11b-vision-preview\",\n",
        "        temperature=0.7,\n",
        "        max_tokens=1024,\n",
        "        top_p=1,\n",
        "        stream=False,\n",
        "        response_format={\"type\": \"json_object\"}\n",
        "    )\n",
        "\n",
        "    return json.loads(chat_completion.choices[0].message.content)\n",
        "\n",
        "\n",
        "# Path to your folder containing images\n",
        "image_folder = \"\" #Replace Folder path here\n",
        "\n",
        "# Path to save JSON files\n",
        "json_folder = os.path.join(image_folder, \"jsonfiles\")\n",
        "\n",
        "# Create the JSON folder if it doesn't exist\n",
        "os.makedirs(json_folder, exist_ok=True)\n",
        "\n",
        "# Initialize the Groq client\n",
        "client = Groq(\n",
        "    api_key=\"\"  # Replace with your API key\n",
        ")\n",
        "\n",
        "# Iterate over all images in the folder\n",
        "for image_file in os.listdir(image_folder):\n",
        "    if image_file.lower().endswith(('.png', '.jpg', '.jpeg')):  # Check for image files\n",
        "        image_path = os.path.join(image_folder, image_file)\n",
        "        while True:  # Retry until successful\n",
        "            try:\n",
        "                # Process each image and get JSON\n",
        "                result_json = process_image(image_path, client)\n",
        "\n",
        "                # Save JSON in the jsonfiles folder with the image's name\n",
        "                json_output_path = os.path.join(json_folder, f\"{os.path.splitext(image_file)[0]}.json\")\n",
        "                with open(json_output_path, \"w\") as json_file:\n",
        "                    json.dump(result_json, json_file, indent=4)\n",
        "                print(f\"Processed and saved: {image_file} as {json_output_path}\")\n",
        "                break  # Exit retry loop on success\n",
        "            except Exception as e:\n",
        "                print(f\"Error processing {image_file}: {e}. Retrying...\")\n",
        "                time.sleep(2)  # Add a short delay before retrying"
      ],
      "metadata": {
        "id": "RbLocZi4__iS",
        "colab": {
          "base_uri": "https://localhost:8080/"
        },
        "outputId": "85891856-b57c-4a8b-c1d3-93bfd59d6f02"
      },
      "execution_count": 4,
      "outputs": [
        {
          "output_type": "stream",
          "name": "stdout",
          "text": [
            "Processed and saved: Anchors- Conical Plug Anchors.png as /content/drive/MyDrive/Screenshots/jsonfiles/Anchors- Conical Plug Anchors.json\n",
            "Processed and saved: Anchors- Drop-In Anchors.png as /content/drive/MyDrive/Screenshots/jsonfiles/Anchors- Drop-In Anchors.json\n",
            "Processed and saved: Anchors- Female-Threaded Anchors.png as /content/drive/MyDrive/Screenshots/jsonfiles/Anchors- Female-Threaded Anchors.json\n",
            "Processed and saved: Anchors- Screw Anchors.png as /content/drive/MyDrive/Screenshots/jsonfiles/Anchors- Screw Anchors.json\n",
            "Processed and saved: Anchors- Sleeve Anchors.png as /content/drive/MyDrive/Screenshots/jsonfiles/Anchors- Sleeve Anchors.json\n",
            "Processed and saved: Anchors-Wedge Anchors.png as /content/drive/MyDrive/Screenshots/jsonfiles/Anchors-Wedge Anchors.json\n",
            "Processed and saved: Blind Rivets.png as /content/drive/MyDrive/Screenshots/jsonfiles/Blind Rivets.json\n",
            "Processed and saved: Cotter Pins.png as /content/drive/MyDrive/Screenshots/jsonfiles/Cotter Pins.json\n",
            "Processed and saved: Dowel Pins.png as /content/drive/MyDrive/Screenshots/jsonfiles/Dowel Pins.json\n",
            "Processed and saved: Fully-Threaded Rods and Studs.png as /content/drive/MyDrive/Screenshots/jsonfiles/Fully-Threaded Rods and Studs.json\n",
            "Processed and saved: Key Stock.png as /content/drive/MyDrive/Screenshots/jsonfiles/Key Stock.json\n",
            "Processed and saved: Machine Keys – Straight, Round, Woodruff, Gib Head.png as /content/drive/MyDrive/Screenshots/jsonfiles/Machine Keys – Straight, Round, Woodruff, Gib Head.json\n",
            "Processed and saved: Nuts- Cage Nuts & Spring Nuts .png as /content/drive/MyDrive/Screenshots/jsonfiles/Nuts- Cage Nuts & Spring Nuts .json\n",
            "Processed and saved: Nuts- Cap Nuts.png as /content/drive/MyDrive/Screenshots/jsonfiles/Nuts- Cap Nuts.json\n",
            "Processed and saved: Nuts- Coupling Nuts.png as /content/drive/MyDrive/Screenshots/jsonfiles/Nuts- Coupling Nuts.json\n",
            "Error processing Nuts- Eye Nuts.png: Error code: 400 - {'error': {'message': \"Failed to generate JSON. Please adjust your prompt. See 'failed_generation' for more details.\", 'type': 'invalid_request_error', 'code': 'json_validate_failed', 'failed_generation': '{\\n   \"purpose\": \"Provide guidance on product specification attributes\",\\n   \"critical_attributes\": [\\n      {\\n         \"Attributes\": \"THREAD SIZE\",\\n         \"Tolerances\": \"IDENTICAL\",\\n         \"Tolerance Variability\": null,\\n         \"Item Notes\": null\\n      },\\n      {\\n         \"Attributes\": \"THREAD TYPE\",\\n         \"Tolerances\": \"TIGHT\",\\n         \"Tolerance Variability\": null,\\n         \"Item Notes\": null\\n      },\\n      {\\n         \"Attributes\": \"THREAD DIRECTION\",\\n         \"Tolerances\": \"IDENTICAL\",\\n         \"Tolerance Variability\": null,\\n         \"Item Notes\": null\\n      },\\n      {\\n         \"Attributes\": \"THREAD LENGTH\",\\n         \"Tolerances\": \"IDENTICAL\",\\n         \"Tolerance Variability\": null,\\n         \"Item Notes\": null\\n      },\\n      {\\n         \"Attributes\": \"THREAD DIA\",\\n         \"Tolerances\": \"IDENTICAL\",\\n         \"Tolerance Variability\": null,\\n         \"Item Notes\": null\\n      },\\n      {\\n         \"Attributes\": \"THREAD MATERIAL\",\\n         \"Tolerances\": \"IDENTICAL\",\\n         \"Tolerance Variability\": null,\\n         \"Item Notes\": null\\n      },\\n      {\\n         \"Attributes\": \"THREAD FINISH\",\\n         \"Tolerances\": \"IDENTICAL\",\\n         \"Tolerance Variability\": null,\\n         \"Item Notes\": null\\n      },\\n      {\\n         \"Attributes\": \"THREAD COATING\",\\n         \"Tolerances\": \"IDENTICAL\",\\n         \"Tolerance Variability\": null,\\n         \"Item Notes\": null\\n      },\\n      {\\n         \"Attributes\": \"THREAD PROTECTION\",\\n         \"Tolerances\": \"IDENTICAL\",\\n         \"Tolerance Variability\": null,\\n         \"Item Notes\": null\\n      },\\n      {\\n         \"Attributes\": \"THREAD SEALING\",\\n         \"Tolerances\": \"IDENTICAL\",\\n         \"Tolerance Variability\": null,\\n         \"Item Notes\": null\\n      },\\n      {\\n         \"Attributes\": \"THREAD CONNECTOR\",\\n         \"Tolerances\": \"IDENTICAL\",\\n         \"Tolerance Variability\": null,\\n         \"Item Notes\": null\\n      },\\n      {\\n         \"Attributes\": \"THREAD PROXIMITY\",\\n         \"Tolerances\": \"IDENTICAL\",\\n         \"Tolerance Variability\": null,\\n         \"Item Notes\": null\\n      },\\n      {\\n         \"Attributes\": \"THREAD TAPER\",\\n         \"Tolerances\": \"IDENTICAL\",\\n         \"Tolerance Variability\": null,\\n         \"Item Notes\": null\\n      },\\n      {\\n         \"Attributes\": \"THREAD PITCH\",\\n         \"Tolerances\": \"IDENTICAL\",\\n         \"Tolerance Variability\": null,\\n         \"Item Notes\": null\\n      },\\n      {\\n         \"Attributes\": \"THREAD DIA\",\\n         \"Tolerances\": \"IDENTICAL\",\\n         \"Tolerance Variability\": null,\\n         \"Item Notes\": null\\n      },\\n      {\\n         \"Attributes\": \"THREAD THICKNESS\",\\n         \"Tolerances\": \"IDENTICAL\",\\n         \"Tolerance Variability\": null,\\n         \"Item Notes\": null\\n      },\\n      {\\n         \"Attributes\": \"THREAD WIDTH\",\\n         \"Tolerances\": \"IDENTICAL\",\\n         \"Tolerance Variability\": null,\\n         \"Item Notes\": null\\n      },\\n      {\\n         \"Attributes\": \"THREAD HEIGHT\",\\n         \"Tolerances\": \"IDENTICAL\",\\n         \"Tolerance Variability\": null,\\n         \"Item Notes\": null\\n      },\\n      {\\n         \"Attributes\": \"THREAD LENGTH\",\\n         \"Tolerances\": \"IDENTICAL\",\\n         \"Tolerance Variability\": null,\\n         \"Item Notes\": null\\n      },\\n      {\\n         \"Attributes\": \"THREAD DIA\",\\n         \"Tolerances\": \"IDENTICAL\",\\n         \"Tolerance Variability\": null,\\n         \"Item Notes\": null\\n      },\\n      {\\n         \"Attributes\": \"THREAD PITCH\",\\n         \"Tolerances\": \"IDENTICAL\",\\n         \"Tolerance Variability\": null,\\n         \"Item Notes\": null\\n      },\\n      {\\n         \"Attributes\": \"THREAD THICKNESS\",\\n         \"Tolerances\": \"IDENTICAL\",\\n         \"Tolerance Variability\": null,\\n         \"Item Notes\": null\\n      },\\n      {\\n         \"Attributes\": \"THREAD WIDTH\",\\n         \"Tolerances\": \"IDENTICAL\",\\n         \"Tolerance Variability\": null,\\n         \"Item Notes\": null\\n      },\\n      {\\n         \"Attributes\": \"THREAD HEIGHT\",\\n         \"Tolerances\": \"IDENTICAL\",\\n         \"Tolerance Variability\": null,\\n         \"Item Notes\": null\\n      },\\n      {\\n         \"Attributes\": \"THREAD LENGTH\",\\n         \"Tolerances\": \"IDENTICAL\",\\n         \"Tolerance Variability\": null,\\n         \"Item Notes\": null\\n      }}'}}. Retrying...\n",
            "Processed and saved: Nuts- Eye Nuts.png as /content/drive/MyDrive/Screenshots/jsonfiles/Nuts- Eye Nuts.json\n",
            "Processed and saved: Nuts- Flange Nuts.png as /content/drive/MyDrive/Screenshots/jsonfiles/Nuts- Flange Nuts.json\n",
            "Processed and saved: Nuts- Hex Nuts.png as /content/drive/MyDrive/Screenshots/jsonfiles/Nuts- Hex Nuts.json\n",
            "Processed and saved: Nuts- Lock Nuts.png as /content/drive/MyDrive/Screenshots/jsonfiles/Nuts- Lock Nuts.json\n",
            "Processed and saved: Nuts- Push Nuts & Retainers .png as /content/drive/MyDrive/Screenshots/jsonfiles/Nuts- Push Nuts & Retainers .json\n",
            "Processed and saved: Nuts- Socket Nuts.png as /content/drive/MyDrive/Screenshots/jsonfiles/Nuts- Socket Nuts.json\n",
            "Processed and saved: Nuts- Square Nuts.png as /content/drive/MyDrive/Screenshots/jsonfiles/Nuts- Square Nuts.json\n",
            "Processed and saved: Nuts- Thumb Nuts.png as /content/drive/MyDrive/Screenshots/jsonfiles/Nuts- Thumb Nuts.json\n",
            "Processed and saved: Nuts- Weld Nuts.png as /content/drive/MyDrive/Screenshots/jsonfiles/Nuts- Weld Nuts.json\n",
            "Processed and saved: Nuts- Wing Nuts.png as /content/drive/MyDrive/Screenshots/jsonfiles/Nuts- Wing Nuts.json\n",
            "Processed and saved: Retaining Rings – Internal or External and E-Style.png as /content/drive/MyDrive/Screenshots/jsonfiles/Retaining Rings – Internal or External and E-Style.json\n",
            "Processed and saved: Screws or Bolts- Carriage Bolts.png as /content/drive/MyDrive/Screenshots/jsonfiles/Screws or Bolts- Carriage Bolts.json\n",
            "Processed and saved: Screws or Bolts- Drywall Screws.png as /content/drive/MyDrive/Screenshots/jsonfiles/Screws or Bolts- Drywall Screws.json\n",
            "Processed and saved: Screws or Bolts- Eye Bolts.png as /content/drive/MyDrive/Screenshots/jsonfiles/Screws or Bolts- Eye Bolts.json\n",
            "Processed and saved: Screws or Bolts- Eye Wood Screw.png as /content/drive/MyDrive/Screenshots/jsonfiles/Screws or Bolts- Eye Wood Screw.json\n",
            "Processed and saved: Screws or Bolts- Hex Head Cap Screws.png as /content/drive/MyDrive/Screenshots/jsonfiles/Screws or Bolts- Hex Head Cap Screws.json\n",
            "Processed and saved: Screws or Bolts- Hex Head Lag Screws.png as /content/drive/MyDrive/Screenshots/jsonfiles/Screws or Bolts- Hex Head Lag Screws.json\n",
            "Processed and saved: Screws or Bolts- Machine Screws.png as /content/drive/MyDrive/Screenshots/jsonfiles/Screws or Bolts- Machine Screws.json\n",
            "Processed and saved: Screws or Bolts- Machinery Eye Bolt Blanks.png as /content/drive/MyDrive/Screenshots/jsonfiles/Screws or Bolts- Machinery Eye Bolt Blanks.json\n",
            "Processed and saved: Screws or Bolts- Routing Eye Bolts.png as /content/drive/MyDrive/Screenshots/jsonfiles/Screws or Bolts- Routing Eye Bolts.json\n",
            "Processed and saved: Screws or Bolts- Self-Drilling Screws.png as /content/drive/MyDrive/Screenshots/jsonfiles/Screws or Bolts- Self-Drilling Screws.json\n",
            "Processed and saved: Screws or Bolts- Set Screws.png as /content/drive/MyDrive/Screenshots/jsonfiles/Screws or Bolts- Set Screws.json\n",
            "Processed and saved: Screws or Bolts- Sheet Metal Screws.png as /content/drive/MyDrive/Screenshots/jsonfiles/Screws or Bolts- Sheet Metal Screws.json\n",
            "Processed and saved: Screws or Bolts- Shoulder Screws.png as /content/drive/MyDrive/Screenshots/jsonfiles/Screws or Bolts- Shoulder Screws.json\n",
            "Processed and saved: Screws or Bolts- Socket Head Cap Screws.png as /content/drive/MyDrive/Screenshots/jsonfiles/Screws or Bolts- Socket Head Cap Screws.json\n",
            "Processed and saved: Screws or Bolts- Structural Bolts & Heavy Hex Bolts .png as /content/drive/MyDrive/Screenshots/jsonfiles/Screws or Bolts- Structural Bolts & Heavy Hex Bolts .json\n",
            "Processed and saved: Screws or Bolts- Thread Cutting or Forming Screws.png as /content/drive/MyDrive/Screenshots/jsonfiles/Screws or Bolts- Thread Cutting or Forming Screws.json\n",
            "Processed and saved: Screws or Bolts- Wood Screws.png as /content/drive/MyDrive/Screenshots/jsonfiles/Screws or Bolts- Wood Screws.json\n",
            "Processed and saved: Shim Stock Rolls and Sheets.png as /content/drive/MyDrive/Screenshots/jsonfiles/Shim Stock Rolls and Sheets.json\n",
            "Error processing Spring Pins.png: Error code: 400 - {'error': {'message': \"Failed to generate JSON. Please adjust your prompt. See 'failed_generation' for more details.\", 'type': 'invalid_request_error', 'code': 'json_validate_failed', 'failed_generation': '{\\n   \"purpose\": \"Provide guidance on product specification attributes\",\\n   \"critical_attributes\": [\\n      {\\n         \"Attributes\": \"Basic Material\",\\n         \"Material Grade\": \"NA\",\\n         \"Fastener Finish\": \"NA\",\\n         \"Pin Diameter\": \"NA\",\\n         \"Length\": \"NA\",\\n         \"Chamfer Diameter\": \"NA\",\\n         \"Wall Thickness\": \"NA\",\\n         \"Min Hole Diameter\": \"NA\",\\n         \"Max Hole Diameter\": \"NA\",\\n         \"Pack Qty\": \"Smallest Pack Qty\"\\n      },\\n      {\\n         \"Attributes\": \"Material Grade\",\\n         \"Material Grade\": \"NA\",\\n         \"Fastener Finish\": \"NA\",\\n         \"Pin Diameter\": \"NA\",\\n         \"Length\": \"NA\",\\n         \"Chamfer Diameter\": \"NA\",\\n         \"Wall Thickness\": \"NA\",\\n         \"Min Hole Diameter\": \"NA\",\\n         \"Max Hole Diameter\": \"NA\",\\n         \"Pack Qty\": \"Smallest Pack Qty\"\\n      },\\n      {\\n         \"Attributes\": \"Fastener Finish\",\\n         \"Material Grade\": \"NA\",\\n         \"Fastener Finish\": \"NA\",\\n         \"Pin Diameter\": \"NA\",\\n         \"Length\": \"NA\",\\n         \"Chamfer Diameter\": \"NA\",\\n         \"Wall Thickness\": \"NA\",\\n         \"Min Hole Diameter\": \"NA\",\\n         \"Max Hole Diameter\": \"NA\",\\n         \"Pack Qty\": \"Smallest Pack Qty\"\\n      },\\n      {\\n         \"Attributes\": \"Pin Diameter\",\\n         \"Material Grade\": \"NA\",\\n         \"Fastener Finish\": \"NA\",\\n         \"Pin Diameter\": \"NA\",\\n         \"Length\": \"NA\",\\n         \"Chamfer Diameter\": \"NA\",\\n         \"Wall Thickness\": \"NA\",\\n         \"Min Hole Diameter\": \"NA\",\\n         \"Max Hole Diameter\": \"NA\",\\n         \"Pack Qty\": \"Smallest Pack Qty\"\\n      },\\n      {\\n         \"Attributes\": \"Length\",\\n         \"Material Grade\": \"NA\",\\n         \"Fastener Finish\": \"NA\",\\n         \"Pin Diameter\": \"NA\",\\n         \"Length\": \"NA\",\\n         \"Chamfer Diameter\": \"NA\",\\n         \"Wall Thickness\": \"NA\",\\n         \"Min Hole Diameter\": \"NA\",\\n         \"Max Hole Diameter\": \"NA\",\\n         \"Pack Qty\": \"Smallest Pack Qty\"\\n      },\\n      {\\n         \"Attributes\": \"Chamfer Diameter\",\\n         \"Material Grade\": \"NA\",\\n         \"Fastener Finish\": \"NA\",\\n         \"Pin Diameter\": \"NA\",\\n         \"Length\": \"NA\",\\n         \"Chamfer Diameter\": \"NA\",\\n         \"Wall Thickness\": \"NA\",\\n         \"Min Hole Diameter\": \"NA\",\\n         \"Max Hole Diameter\": \"NA\",\\n         \"Pack Qty\": \"Smallest Pack Qty\"\\n      },\\n      {\\n         \"Attributes\": \"Wall Thickness\",\\n         \"Material Grade\": \"NA\",\\n         \"Fastener Finish\": \"NA\",\\n         \"Pin Diameter\": \"NA\",\\n         \"Length\": \"NA\",\\n         \"Chamfer Diameter\": \"NA\",\\n         \"Wall Thickness\": \"NA\",\\n         \"Min Hole Diameter\": \"NA\",\\n         \"Max Hole Diameter\": \"NA\",\\n         \"Pack Qty\": \"Smallest Pack Qty\"\\n      },\\n      {\\n         \"Attributes\": \"Min Hole Diameter\",\\n         \"Material Grade\": \"NA\",\\n         \"Fastener Finish\": \"NA\",\\n         \"Pin Diameter\": \"NA\",\\n         \"Length\": \"NA\",\\n         \"Chamfer Diameter\": \"NA\",\\n         \"Wall Thickness\": \"NA\",\\n         \"Min Hole Diameter\": \"NA\",\\n         \"Max Hole Diameter\": \"NA\",\\n         \"Pack Qty\": \"Smallest Pack Qty\"\\n      },\\n      {\\n         \"Attributes\": \"Max Hole Diameter\",\\n         \"Material Grade\": \"NA\",\\n         \"Fastener Finish\": \"NA\",\\n         \"Pin Diameter\": \"NA\",\\n         \"Length\": \"NA\",\\n         \"Chamfer Diameter\": \"NA\",\\n         \"Wall Thickness\": \"NA\",\\n         \"Min Hole Diameter\": \"NA\",\\n         \"Max Hole Diameter\": \"NA\",\\n         \"Pack Qty\": \"Smallest Pack Qty\"\\n      },\\n      {\\n         \"Attributes\": \"Pack Qty\",\\n         \"Material Grade\": \"NA\",\\n         \"Fastener Finish\": \"NA\",\\n         \"Pin Diameter\": \"NA\",\\n         \"Length\": \"NA\",\\n         \"Chamfer Diameter\": \"NA\",\\n         \"Wall Thickness\": \"NA\",\\n         \"Min Hole Diameter\": \"NA\",\\n         \"Max Hole Diameter\": \"NA\",\\n         \"Pack Qty\": \"Smallest Pack Qty\"\\n      }\\n   ],\\n   \"tolerances\": {\\n      \"ROLL = SLOTTED TYPE\": {\\n         \"RLL = SLOTTED TYPE\": null,\\n         \"Zinc = Steel\": null\\n      },\\n      \"Zinc = Steel\": {\\n         \"Zinc = Steel\": null,\\n         \"Non-Critical\": null\\n      }'}}. Retrying...\n",
            "Processed and saved: Spring Pins.png as /content/drive/MyDrive/Screenshots/jsonfiles/Spring Pins.json\n",
            "Processed and saved: Washers- Conical Washers.png as /content/drive/MyDrive/Screenshots/jsonfiles/Washers- Conical Washers.json\n",
            "Processed and saved: Washers- Countersunk Washers.png as /content/drive/MyDrive/Screenshots/jsonfiles/Washers- Countersunk Washers.json\n",
            "Processed and saved: Washers- Flat Washers.png as /content/drive/MyDrive/Screenshots/jsonfiles/Washers- Flat Washers.json\n",
            "Processed and saved: Washers- Insulator Washers.png as /content/drive/MyDrive/Screenshots/jsonfiles/Washers- Insulator Washers.json\n",
            "Processed and saved: Washers- Lock Washers (Split or Internal or External).png as /content/drive/MyDrive/Screenshots/jsonfiles/Washers- Lock Washers (Split or Internal or External).json\n",
            "Processed and saved: Washers- Ogee Washers.png as /content/drive/MyDrive/Screenshots/jsonfiles/Washers- Ogee Washers.json\n",
            "Processed and saved: Washers- Retaining Washers.png as /content/drive/MyDrive/Screenshots/jsonfiles/Washers- Retaining Washers.json\n",
            "Processed and saved: Washers- Sealing & Cushioning Washers.png as /content/drive/MyDrive/Screenshots/jsonfiles/Washers- Sealing & Cushioning Washers.json\n",
            "Processed and saved: Washers- Spherical Washers.png as /content/drive/MyDrive/Screenshots/jsonfiles/Washers- Spherical Washers.json\n",
            "Processed and saved: Washers- Structural Washers.png as /content/drive/MyDrive/Screenshots/jsonfiles/Washers- Structural Washers.json\n",
            "Processed and saved: Washers- Wave Washers.png as /content/drive/MyDrive/Screenshots/jsonfiles/Washers- Wave Washers.json\n"
          ]
        }
      ]
    }
  ]
}